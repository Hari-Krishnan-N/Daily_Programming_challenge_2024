{
 "cells": [
  {
   "cell_type": "code",
   "execution_count": 46,
   "metadata": {},
   "outputs": [],
   "source": [
    "def String_Reverse(String):\n",
    "    \n",
    "    i = 0\n",
    "    start = -1\n",
    "    sttr = \"\"\n",
    "    \n",
    "    while  i < len(String):\n",
    "        \n",
    "        if String[i] != \" \":\n",
    "            \n",
    "            start = i\n",
    "            \n",
    "            while i < len(String) and String[i] != \" \":\n",
    "                \n",
    "                i += 1\n",
    "                \n",
    "            if sttr == \"\":\n",
    "                \n",
    "                sttr = String[start:i] \n",
    "                \n",
    "            else:\n",
    "                \n",
    "                sttr = String[start:i] + \" \" + sttr\n",
    "            \n",
    "            while i < len(String) and String[i] == \" \":\n",
    "                i += 1\n",
    "                \n",
    "            i -= 1\n",
    "        \n",
    "        i += 1\n",
    "        \n",
    "    return sttr"
   ]
  },
  {
   "cell_type": "code",
   "execution_count": 47,
   "metadata": {},
   "outputs": [
    {
     "name": "stdout",
     "output_type": "stream",
     "text": [
      "Test Case 1:\n",
      "Input :the sky is blue\n",
      "Len_Input :15\n",
      "Output :blue is sky the\n",
      "Len_Output :15\n"
     ]
    }
   ],
   "source": [
    "# Test Case 1\n",
    "print(\"Test Case 1:\")\n",
    "Input =  \"the sky is blue\"\n",
    "print ( \"Input :\" + str(Input)) \n",
    "print ( \"Len_Input :\" + str(len(Input)))\n",
    "print ( \"Output :\"+ str(String_Reverse(Input)))\n",
    "print ( \"Len_Output :\" + str(len(String_Reverse(Input))))"
   ]
  },
  {
   "cell_type": "code",
   "execution_count": 48,
   "metadata": {},
   "outputs": [
    {
     "name": "stdout",
     "output_type": "stream",
     "text": [
      "Test Case 2:\n",
      "Input :  hello world  \n",
      "Len_Input :15\n",
      "Output :world hello\n",
      "Len_Output :11\n"
     ]
    }
   ],
   "source": [
    "# Test Case 2\n",
    "print(\"Test Case 2:\")\n",
    "Input =  \"  hello world  \"\n",
    "print ( \"Input :\" + str(Input)) \n",
    "print ( \"Len_Input :\" + str(len(Input)))\n",
    "print ( \"Output :\"+ str(String_Reverse(Input)))\n",
    "print ( \"Len_Output :\" + str(len(String_Reverse(Input))))"
   ]
  },
  {
   "cell_type": "code",
   "execution_count": 51,
   "metadata": {},
   "outputs": [
    {
     "name": "stdout",
     "output_type": "stream",
     "text": [
      "Test Case 3:\n",
      "Input :a good   example\n",
      "Len_Input :16\n",
      "Output :example good a\n",
      "Len_Output :14\n"
     ]
    }
   ],
   "source": [
    "# Test Case 3\n",
    "print(\"Test Case 3:\")\n",
    "Input =  \"a good   example\"\n",
    "print ( \"Input :\" + str(Input)) \n",
    "print ( \"Len_Input :\" + str(len(Input)))\n",
    "print ( \"Output :\"+ str(String_Reverse(Input)))\n",
    "print ( \"Len_Output :\" + str(len(String_Reverse(Input))))"
   ]
  },
  {
   "cell_type": "code",
   "execution_count": 52,
   "metadata": {},
   "outputs": [
    {
     "name": "stdout",
     "output_type": "stream",
     "text": [
      "Test Case 4:\n",
      "Input :    \n",
      "Len_Input :4\n",
      "Output :\n",
      "Len_Output :0\n"
     ]
    }
   ],
   "source": [
    "# Test Case 4\n",
    "print(\"Test Case 4:\")\n",
    "Input =  \"    \"\n",
    "print ( \"Input :\" + str(Input)) \n",
    "print ( \"Len_Input :\" + str(len(Input)))\n",
    "print ( \"Output :\"+ str(String_Reverse(Input)))\n",
    "print ( \"Len_Output :\" + str(len(String_Reverse(Input))))"
   ]
  },
  {
   "cell_type": "code",
   "execution_count": 53,
   "metadata": {},
   "outputs": [
    {
     "name": "stdout",
     "output_type": "stream",
     "text": [
      "Test Case 5:\n",
      "Input :word\n",
      "Len_Input :4\n",
      "Output :word\n",
      "Len_Output :4\n"
     ]
    }
   ],
   "source": [
    "# Test Case 5\n",
    "print(\"Test Case 5:\")\n",
    "Input =  \"word\"\n",
    "print ( \"Input :\" + str(Input)) \n",
    "print ( \"Len_Input :\" + str(len(Input)))\n",
    "print ( \"Output :\"+ str(String_Reverse(Input)))\n",
    "print ( \"Len_Output :\" + str(len(String_Reverse(Input))))"
   ]
  }
 ],
 "metadata": {
  "kernelspec": {
   "display_name": "base",
   "language": "python",
   "name": "python3"
  },
  "language_info": {
   "codemirror_mode": {
    "name": "ipython",
    "version": 3
   },
   "file_extension": ".py",
   "mimetype": "text/x-python",
   "name": "python",
   "nbconvert_exporter": "python",
   "pygments_lexer": "ipython3",
   "version": "3.12.4"
  }
 },
 "nbformat": 4,
 "nbformat_minor": 2
}
