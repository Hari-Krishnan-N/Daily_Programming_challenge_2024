{
 "cells": [
  {
   "cell_type": "code",
   "execution_count": 16,
   "metadata": {},
   "outputs": [],
   "source": [
    "\n",
    "def Trapped_Quantity(arr):\n",
    "    \n",
    "    i = 0\n",
    "    j = len(arr) - 1\n",
    "    trapped = 0\n",
    "    i_max = arr[i]\n",
    "    j_max = arr[j]\n",
    "    \n",
    "    while i<j :\n",
    "        \n",
    "        if arr[i] < arr[j]:\n",
    "            \n",
    "            if arr[i] >= i_max :\n",
    "                i_max = arr[i]\n",
    "                i += 1\n",
    "            else:\n",
    "                trapped += i_max - arr[i]\n",
    "                i += 1\n",
    "                \n",
    "        else:\n",
    "            \n",
    "            if arr[j] >= j_max :\n",
    "                j_max = arr[j]\n",
    "                j -= 1\n",
    "            else:\n",
    "                trapped += j_max - arr[j]\n",
    "                j -= 1\n",
    "            \n",
    "    return trapped\n",
    "                "
   ]
  },
  {
   "cell_type": "code",
   "execution_count": 17,
   "metadata": {},
   "outputs": [
    {
     "name": "stdout",
     "output_type": "stream",
     "text": [
      "Test Case 1:\n",
      "Input_Height : [0, 1, 0, 2, 1, 0, 1, 3, 2, 1, 2, 1]\n",
      "Trapped Rain Water Quantity :  6\n"
     ]
    }
   ],
   "source": [
    "# test case 1\n",
    "print(\"Test Case 1:\")\n",
    "height = [0, 1, 0, 2, 1, 0, 1, 3, 2, 1, 2, 1]\n",
    "print(\"Input_Height :\",height)\n",
    "print(\"Trapped Rain Water Quantity : \",Trapped_Quantity(height))"
   ]
  },
  {
   "cell_type": "code",
   "execution_count": 18,
   "metadata": {},
   "outputs": [
    {
     "name": "stdout",
     "output_type": "stream",
     "text": [
      "Test Case 2:\n",
      "Input_Height : [4, 2, 0, 3, 2, 5]\n",
      "Trapped Rain Water Quantity :  9\n"
     ]
    }
   ],
   "source": [
    "# test case 2\n",
    "print(\"Test Case 2:\")\n",
    "height = [4, 2, 0, 3, 2, 5]\n",
    "print(\"Input_Height :\",height)\n",
    "print(\"Trapped Rain Water Quantity : \",Trapped_Quantity(height))"
   ]
  },
  {
   "cell_type": "code",
   "execution_count": 19,
   "metadata": {},
   "outputs": [
    {
     "name": "stdout",
     "output_type": "stream",
     "text": [
      "Test Case 3:\n",
      "Input_Height : [1, 1, 1]\n",
      "Trapped Rain Water Quantity :  0\n"
     ]
    }
   ],
   "source": [
    "# test case 3\n",
    "print(\"Test Case 3:\")\n",
    "height = [1, 1, 1]\n",
    "print(\"Input_Height :\",height)\n",
    "print(\"Trapped Rain Water Quantity : \",Trapped_Quantity(height))"
   ]
  },
  {
   "cell_type": "code",
   "execution_count": 20,
   "metadata": {},
   "outputs": [
    {
     "name": "stdout",
     "output_type": "stream",
     "text": [
      "Test Case 4:\n",
      "Input_Height : [5]\n",
      "Trapped Rain Water Quantity :  0\n"
     ]
    }
   ],
   "source": [
    "# test case 4\n",
    "print(\"Test Case 4:\")\n",
    "height = [5]\n",
    "print(\"Input_Height :\",height)\n",
    "print(\"Trapped Rain Water Quantity : \",Trapped_Quantity(height))"
   ]
  },
  {
   "cell_type": "code",
   "execution_count": 21,
   "metadata": {},
   "outputs": [
    {
     "name": "stdout",
     "output_type": "stream",
     "text": [
      "Test Case 5:\n",
      "Input_Height : [2, 0, 2]\n",
      "Trapped Rain Water Quantity :  2\n"
     ]
    }
   ],
   "source": [
    "# test case 5\n",
    "print(\"Test Case 5:\")\n",
    "height = [2, 0, 2]\n",
    "print(\"Input_Height :\",height)\n",
    "print(\"Trapped Rain Water Quantity : \",Trapped_Quantity(height))"
   ]
  }
 ],
 "metadata": {
  "kernelspec": {
   "display_name": "base",
   "language": "python",
   "name": "python3"
  },
  "language_info": {
   "codemirror_mode": {
    "name": "ipython",
    "version": 3
   },
   "file_extension": ".py",
   "mimetype": "text/x-python",
   "name": "python",
   "nbconvert_exporter": "python",
   "pygments_lexer": "ipython3",
   "version": "3.12.4"
  }
 },
 "nbformat": 4,
 "nbformat_minor": 2
}
