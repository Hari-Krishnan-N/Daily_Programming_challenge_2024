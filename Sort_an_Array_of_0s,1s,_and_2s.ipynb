{
 "cells": [
  {
   "cell_type": "code",
   "execution_count": 35,
   "metadata": {},
   "outputs": [],
   "source": [
    "\n",
    "def Sort_Array(arr):\n",
    "    \n",
    "    n = len(arr)\n",
    "    i = 0\n",
    "    mid = 0\n",
    "    j = n-1\n",
    "\n",
    "    while mid<=j:\n",
    "        \n",
    "        if arr[mid] == 0:\n",
    "            arr[i],arr[mid] = arr[mid],arr[i]\n",
    "            i = i+1\n",
    "            mid = mid+1\n",
    "            \n",
    "        elif arr[mid] == 1:\n",
    "            mid = mid+1\n",
    "            \n",
    "        else:\n",
    "            arr[mid],arr[j] = arr[j],arr[mid]\n",
    "            j = j-1\n",
    "            \n",
    "    return arr"
   ]
  },
  {
   "cell_type": "code",
   "execution_count": 36,
   "metadata": {},
   "outputs": [
    {
     "name": "stdout",
     "output_type": "stream",
     "text": [
      "Input Array = [0, 1, 2, 1, 0, 2, 1, 0]\n",
      "Sorted Array = [0, 0, 0, 1, 1, 1, 2, 2]\n"
     ]
    }
   ],
   "source": [
    "# Test Case 1:\n",
    "\n",
    "input_array = [0, 1, 2, 1, 0, 2, 1, 0]\n",
    "print(\"Input Array = \" + str(input_array))\n",
    "print(\"Sorted Array = \" + str(Sort_Array(input_array)))"
   ]
  },
  {
   "cell_type": "code",
   "execution_count": 37,
   "metadata": {},
   "outputs": [
    {
     "name": "stdout",
     "output_type": "stream",
     "text": [
      "Input Array = [2, 2, 2, 2]\n",
      "Sorted Array = [2, 2, 2, 2]\n"
     ]
    }
   ],
   "source": [
    "# Test Case 2:\n",
    "\n",
    "input_array = [2, 2, 2, 2]\n",
    "print(\"Input Array = \" + str(input_array))\n",
    "print(\"Sorted Array = \" + str(Sort_Array(input_array)))"
   ]
  },
  {
   "cell_type": "code",
   "execution_count": 38,
   "metadata": {},
   "outputs": [
    {
     "name": "stdout",
     "output_type": "stream",
     "text": [
      "Input Array = [0, 0, 0, 0]\n",
      "Sorted Array = [0, 0, 0, 0]\n"
     ]
    }
   ],
   "source": [
    "# Test Case 3:\n",
    "\n",
    "input_array = [0, 0, 0, 0]\n",
    "print(\"Input Array = \" + str(input_array))\n",
    "print(\"Sorted Array = \" + str(Sort_Array(input_array)))"
   ]
  },
  {
   "cell_type": "code",
   "execution_count": 39,
   "metadata": {},
   "outputs": [
    {
     "name": "stdout",
     "output_type": "stream",
     "text": [
      "Input Array = [1, 1, 1, 1]\n",
      "Sorted Array = [1, 1, 1, 1]\n"
     ]
    }
   ],
   "source": [
    "# Test Case 4:\n",
    "\n",
    "input_array = [1, 1, 1, 1]\n",
    "print(\"Input Array = \" + str(input_array))\n",
    "print(\"Sorted Array = \" + str(Sort_Array(input_array)))"
   ]
  },
  {
   "cell_type": "code",
   "execution_count": 40,
   "metadata": {},
   "outputs": [
    {
     "name": "stdout",
     "output_type": "stream",
     "text": [
      "Input Array = [2, 0, 1]\n",
      "Sorted Array = [0, 1, 2]\n"
     ]
    }
   ],
   "source": [
    "# Test Case 5:\n",
    "\n",
    "input_array = [2, 0, 1]\n",
    "print(\"Input Array = \" + str(input_array))\n",
    "print(\"Sorted Array = \" + str(Sort_Array(input_array)))"
   ]
  },
  {
   "cell_type": "code",
   "execution_count": 41,
   "metadata": {},
   "outputs": [
    {
     "name": "stdout",
     "output_type": "stream",
     "text": [
      "Input Array = []\n",
      "Sorted Array = []\n"
     ]
    }
   ],
   "source": [
    "# Test Case 3:\n",
    "\n",
    "input_array = []\n",
    "print(\"Input Array = \" + str(input_array))\n",
    "print(\"Sorted Array = \" + str(Sort_Array(input_array)))"
   ]
  },
  {
   "cell_type": "code",
   "execution_count": 42,
   "metadata": {},
   "outputs": [
    {
     "name": "stdout",
     "output_type": "stream",
     "text": [
      "Input Array = [0, 0, 0, 1, 1, 1, 2, 2]\n",
      "Sorted Array = [0, 0, 0, 1, 1, 1, 2, 2]\n"
     ]
    }
   ],
   "source": [
    "# Test Case 3:\n",
    "\n",
    "input_array = [0, 0, 0, 1, 1, 1, 2, 2]\n",
    "print(\"Input Array = \" + str(input_array))\n",
    "print(\"Sorted Array = \" + str(Sort_Array(input_array)))"
   ]
  }
 ],
 "metadata": {
  "kernelspec": {
   "display_name": "base",
   "language": "python",
   "name": "python3"
  },
  "language_info": {
   "codemirror_mode": {
    "name": "ipython",
    "version": 3
   },
   "file_extension": ".py",
   "mimetype": "text/x-python",
   "name": "python",
   "nbconvert_exporter": "python",
   "pygments_lexer": "ipython3",
   "version": "3.12.4"
  }
 },
 "nbformat": 4,
 "nbformat_minor": 2
}
