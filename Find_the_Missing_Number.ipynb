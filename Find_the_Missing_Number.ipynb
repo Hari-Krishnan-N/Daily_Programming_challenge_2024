{
 "cells": [
  {
   "cell_type": "code",
   "execution_count": 8,
   "metadata": {},
   "outputs": [],
   "source": [
    "def Missing_Number(arr):\n",
    "    \n",
    "    n = len(arr) + 1\n",
    "    T_Sum = n*(n+1)//2\n",
    "    return (T_Sum - sum(arr))"
   ]
  },
  {
   "cell_type": "code",
   "execution_count": 9,
   "metadata": {},
   "outputs": [
    {
     "name": "stdout",
     "output_type": "stream",
     "text": [
      "Test Case 1:\n",
      "Input :[1, 2, 4, 5]\n",
      "Output :3\n"
     ]
    }
   ],
   "source": [
    "# Test Case 1\n",
    "print(\"Test Case 1:\")\n",
    "Input =  [1, 2, 4, 5]\n",
    "print ( \"Input :\" + str(Input)) \n",
    "print ( \"Output :\"+ str(Missing_Number(Input)))"
   ]
  },
  {
   "cell_type": "code",
   "execution_count": 10,
   "metadata": {},
   "outputs": [
    {
     "name": "stdout",
     "output_type": "stream",
     "text": [
      "Test Case 2:\n",
      "Input :[2, 3, 4, 5]\n",
      "Output :1\n"
     ]
    }
   ],
   "source": [
    "# Test Case 2\n",
    "print(\"Test Case 2:\")\n",
    "Input =  [2, 3, 4, 5]\n",
    "print ( \"Input :\" + str(Input)) \n",
    "print ( \"Output :\"+ str(Missing_Number(Input)))"
   ]
  },
  {
   "cell_type": "code",
   "execution_count": 11,
   "metadata": {},
   "outputs": [
    {
     "name": "stdout",
     "output_type": "stream",
     "text": [
      "Test Case 3:\n",
      "Input :[1, 2, 3, 4]\n",
      "Output :5\n"
     ]
    }
   ],
   "source": [
    "# Test Case 3\n",
    "print(\"Test Case 3:\")\n",
    "Input =  [1, 2, 3, 4]\n",
    "print ( \"Input :\" + str(Input)) \n",
    "print ( \"Output :\"+ str(Missing_Number(Input)))"
   ]
  },
  {
   "cell_type": "code",
   "execution_count": 12,
   "metadata": {},
   "outputs": [
    {
     "name": "stdout",
     "output_type": "stream",
     "text": [
      "Test Case 4:\n",
      "Input :[1]\n",
      "Output :2\n"
     ]
    }
   ],
   "source": [
    "# Test Case 4\n",
    "print(\"Test Case 4:\")\n",
    "Input =  [1]\n",
    "print ( \"Input :\" + str(Input)) \n",
    "print ( \"Output :\"+ str(Missing_Number(Input)))"
   ]
  },
  {
   "cell_type": "code",
   "execution_count": 13,
   "metadata": {},
   "outputs": [
    {
     "name": "stdout",
     "output_type": "stream",
     "text": [
      "Test Case 5:\n",
      "Input :range(1, 1000000)\n",
      "Output :1000000\n"
     ]
    }
   ],
   "source": [
    "# Test Case 5\n",
    "print(\"Test Case 5:\")\n",
    "Input =  range(1, 1000000)\n",
    "print ( \"Input :\" + str(Input)) \n",
    "print ( \"Output :\"+ str(Missing_Number(Input)))"
   ]
  }
 ],
 "metadata": {
  "kernelspec": {
   "display_name": "base",
   "language": "python",
   "name": "python3"
  },
  "language_info": {
   "codemirror_mode": {
    "name": "ipython",
    "version": 3
   },
   "file_extension": ".py",
   "mimetype": "text/x-python",
   "name": "python",
   "nbconvert_exporter": "python",
   "pygments_lexer": "ipython3",
   "version": "3.12.4"
  }
 },
 "nbformat": 4,
 "nbformat_minor": 2
}
