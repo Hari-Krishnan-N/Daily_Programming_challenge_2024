{
 "cells": [
  {
   "cell_type": "code",
   "execution_count": 28,
   "metadata": {},
   "outputs": [],
   "source": [
    "def leader_in_array(arr):\n",
    "    \n",
    "    Larg = arr[-1]\n",
    "    leaders = [arr[-1]]\n",
    "    for i in range(-1,-len(arr)-1,-1):\n",
    "        \n",
    "        if arr[i] > Larg:\n",
    "            leaders.append(arr[i])\n",
    "            Larg = arr[i]\n",
    "            \n",
    "    return leaders"
   ]
  },
  {
   "cell_type": "code",
   "execution_count": 29,
   "metadata": {},
   "outputs": [
    {
     "name": "stdout",
     "output_type": "stream",
     "text": [
      "Test case 1 :\n",
      "Input : [1, 2, 3, 4, 0]\n",
      "Output : [0, 4]\n"
     ]
    }
   ],
   "source": [
    "# test case 1\n",
    "\n",
    "print(\"Test case 1 :\")\n",
    "Input = [1, 2, 3, 4, 0]\n",
    "print(\"Input : \" + str(Input))\n",
    "print(\"Output : \" + str(leader_in_array(Input)))"
   ]
  },
  {
   "cell_type": "code",
   "execution_count": 30,
   "metadata": {},
   "outputs": [
    {
     "name": "stdout",
     "output_type": "stream",
     "text": [
      "Test case 2 :\n",
      "Input : [7, 10, 4, 10, 6, 5, 2]\n",
      "Output : [2, 5, 6, 10]\n"
     ]
    }
   ],
   "source": [
    "# test case 2\n",
    "\n",
    "print(\"Test case 2 :\")\n",
    "Input = [7, 10, 4, 10, 6, 5, 2]\n",
    "print(\"Input : \" + str(Input))\n",
    "print(\"Output : \" + str(leader_in_array(Input)))"
   ]
  },
  {
   "cell_type": "code",
   "execution_count": 31,
   "metadata": {},
   "outputs": [
    {
     "name": "stdout",
     "output_type": "stream",
     "text": [
      "Test case 3 :\n",
      "Input : [5]\n",
      "Output : [5]\n"
     ]
    }
   ],
   "source": [
    "# test case 3\n",
    "\n",
    "print(\"Test case 3 :\")\n",
    "Input = [5]\n",
    "print(\"Input : \" + str(Input))\n",
    "print(\"Output : \" + str(leader_in_array(Input)))"
   ]
  },
  {
   "cell_type": "code",
   "execution_count": 32,
   "metadata": {},
   "outputs": [
    {
     "name": "stdout",
     "output_type": "stream",
     "text": [
      "Test case 4 :\n",
      "Input : [100, 50, 20, 10]\n",
      "Output : [10, 20, 50, 100]\n"
     ]
    }
   ],
   "source": [
    "# test case 4\n",
    "\n",
    "print(\"Test case 4 :\")\n",
    "Input = [100, 50, 20, 10]\n",
    "print(\"Input : \" + str(Input))\n",
    "print(\"Output : \" + str(leader_in_array(Input)))"
   ]
  },
  {
   "cell_type": "code",
   "execution_count": 33,
   "metadata": {},
   "outputs": [
    {
     "name": "stdout",
     "output_type": "stream",
     "text": [
      "Test case 5 :\n",
      "Input : range(1, 1000001)\n",
      "Output : [1000000]\n"
     ]
    }
   ],
   "source": [
    "# test case 5\n",
    "\n",
    "print(\"Test case 5 :\")\n",
    "Input = range(1,1000001)\n",
    "print(\"Input : \" + str(Input))\n",
    "print(\"Output : \" + str(leader_in_array(Input)))"
   ]
  }
 ],
 "metadata": {
  "kernelspec": {
   "display_name": "base",
   "language": "python",
   "name": "python3"
  },
  "language_info": {
   "codemirror_mode": {
    "name": "ipython",
    "version": 3
   },
   "file_extension": ".py",
   "mimetype": "text/x-python",
   "name": "python",
   "nbconvert_exporter": "python",
   "pygments_lexer": "ipython3",
   "version": "3.12.4"
  }
 },
 "nbformat": 4,
 "nbformat_minor": 2
}
